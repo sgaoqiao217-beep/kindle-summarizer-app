{
 "cells": [
  {
   "cell_type": "code",
   "execution_count": 1,
   "id": "0c59e164",
   "metadata": {},
   "outputs": [],
   "source": [
    "import os\n",
    "import re\n",
    "import json"
   ]
  },
  {
   "cell_type": "code",
   "execution_count": 2,
   "id": "7d32c6d3",
   "metadata": {},
   "outputs": [],
   "source": [
    "def save_merged_chapter(title, chapter, text_lines, filename_list, output_dir):\n",
    "    \"\"\"章データを JSON ファイルに保存（複数ファイル合併版）\"\"\"\n",
    "    chapter_data = {\n",
    "        \"FilenameList\": filename_list,       # 合併した元ファイル名リスト\n",
    "        \"Title\": title,\n",
    "        \"Chapter\": chapter,\n",
    "        \"Body\": \"\\n\".join(text_lines)\n",
    "    }\n",
    "    \n",
    "    safe_name = re.sub(r\"[\\\\/:*?\\\"<>|]\", \"_\", chapter)\n",
    "    file_path = os.path.join(output_dir, f\"{safe_name}.json\")\n",
    "\n",
    "    with open(file_path, \"w\", encoding=\"utf-8\") as f:\n",
    "        json.dump(chapter_data, f, ensure_ascii=False, indent=2)\n",
    "\n",
    "    print(f\"Saved: {file_path}\")\n",
    "\n",
    "\n",
    "def split_by_chapter_and_save_list(info_list, output_dir):\n",
    "    os.makedirs(output_dir, exist_ok=True)\n",
    "\n",
    "    chapter_pattern = re.compile(r\"(第[0-9一二三四五六七八九十]+章.*|序章.*|結論.*)\")\n",
    "\n",
    "    current_chapter = None\n",
    "    current_text = []\n",
    "    current_files = []\n",
    "    current_title = None\n",
    "\n",
    "    for info in info_list:\n",
    "        body = info[\"Body\"].strip()\n",
    "        m = chapter_pattern.match(body)\n",
    "\n",
    "        if m:\n",
    "            # ➡️ 直前の章を保存\n",
    "            if current_chapter and current_text:\n",
    "                save_merged_chapter(\n",
    "                    current_title,\n",
    "                    current_chapter,\n",
    "                    current_text,\n",
    "                    current_files,\n",
    "                    output_dir\n",
    "                )\n",
    "\n",
    "            # ➡️ 新しい章開始\n",
    "            current_chapter = m.group(1).strip()\n",
    "            current_text = [body]\n",
    "            current_files = [info[\"Filename\"]]\n",
    "            current_title = info[\"Title\"]\n",
    "\n",
    "        else:\n",
    "            # ➡️ 同一章の続き\n",
    "            current_text.append(body)\n",
    "            current_files.append(info[\"Filename\"])\n",
    "            if not current_title:\n",
    "                current_title = info[\"Title\"]\n",
    "\n",
    "    # 最後の章を保存\n",
    "    if current_chapter and current_text:\n",
    "        save_merged_chapter(\n",
    "            current_title,\n",
    "            current_chapter,\n",
    "            current_text,\n",
    "            current_files,\n",
    "            output_dir\n",
    "        )"
   ]
  },
  {
   "cell_type": "code",
   "execution_count": 3,
   "id": "b26a3e00",
   "metadata": {},
   "outputs": [
    {
     "name": "stdout",
     "output_type": "stream",
     "text": [
      "Saved: ../ocr_extract_info/序章新しい働き方.json\n",
      "Saved: ../ocr_extract_info/第1章成功に貢献することが最大のモチベーション.json\n",
      "Saved: ../ocr_extract_info/第2章従業員一人ひとりが事業を理解する.json\n",
      "Saved: ../ocr_extract_info/第3章人はうそやごまかしを嫌う.json\n",
      "Saved: ../ocr_extract_info/第4章議論を活発にする.json\n",
      "Saved: ../ocr_extract_info/第5章未来の理想の会社を今からつくり始める.json\n",
      "Saved: ../ocr_extract_info/第6章どの仕事にも優秀な人材を配置する.json\n",
      "Saved: ../ocr_extract_info/第7章会社にもたらす価値をもとに報酬を決める.json\n",
      "Saved: ../ocr_extract_info/第8章円満な解雇の方法.json\n",
      "Saved: ../ocr_extract_info/結論.json\n"
     ]
    }
   ],
   "source": [
    "output_dir = \"../ocr_extract_info\"\n",
    "os.makedirs(output_dir, exist_ok=True)\n",
    "\n",
    "\n",
    "info_json_path = os.path.join(output_dir, \"info.json\")\n",
    "\n",
    "with open(info_json_path, \"r\", encoding=\"utf-8\") as f:\n",
    "    info_list = json.load(f)\n",
    "\n",
    "split_by_chapter_and_save_list(info_list, output_dir)"
   ]
  }
 ],
 "metadata": {
  "kernelspec": {
   "display_name": "Python 3",
   "language": "python",
   "name": "python3"
  },
  "language_info": {
   "codemirror_mode": {
    "name": "ipython",
    "version": 3
   },
   "file_extension": ".py",
   "mimetype": "text/x-python",
   "name": "python",
   "nbconvert_exporter": "python",
   "pygments_lexer": "ipython3",
   "version": "3.12.8"
  }
 },
 "nbformat": 4,
 "nbformat_minor": 5
}
